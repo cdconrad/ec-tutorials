{
 "cells": [
  {
   "cell_type": "markdown",
   "metadata": {},
   "source": [
    "# Tutorial 1: Basic Data Exploration\n",
    "As you likely already know, Python is a key component of the modern data scientist's toolbox. You will not be expected to understand Python for ECMM 6020, but it is good to get some exposure to how the technology works in a functional setting. If you haven't already, take a look at the data.csv file. This file consists of some 500 000 e-commerce transactions from a UK online retailer.\n",
    "\n",
    "We will start by doing some basic exploration using Python. Our first task will be to retrieve subsets within this dataset. To do this, we will need to import the file to the Python environment. You may have noticed that the file is a csv file type-- this stands for comma separated files. We will use a special CSV python library to import the data and manipulate it in this environment. The following expression opens the data file and saves it in a Python dictionary type. You can learn more about the Python csv library here: https://docs.python.org/3/library/csv.html"
   ]
  },
  {
   "cell_type": "code",
   "execution_count": null,
   "metadata": {},
   "outputs": [],
   "source": [
    "import csv #import the csv library for loading csv type files\n",
    "\n",
    "ec = [] # we will declare a list to store the data\n",
    "\n",
    "with open('data.csv', newline='') as csvfile: #this is an expression used by the csv library to open the file\n",
    "    datareader = csv.DictReader(csvfile, delimiter=',', quotechar='|') #use the DictReader to read each row of the csv file\n",
    "    for row in datareader: #this is a loop for iterating through each row\n",
    "        ec.append(row) #we will append the content of each row as a dictionary entry to the ec list"
   ]
  },
  {
   "cell_type": "markdown",
   "metadata": {},
   "source": [
    "<u>If you don't understand exactly how this works, don't worry about it</u>. You won't have to know understand it to do this assignment. Just try to make sense of the code's logic.\n",
    "\n",
    "Once we have stored the file contents in Python, it's always good to check to see whether it is working. One way to do that is to use the handy <i>print</i> function. Print basically just prints using the console terminal. Since we are using Jupyter, the content will appear just below the command. In our case, we will print the third entry in the list ec."
   ]
  },
  {
   "cell_type": "code",
   "execution_count": null,
   "metadata": {},
   "outputs": [],
   "source": [
    "print(ec[2]) #prints the third dictionary on the list"
   ]
  },
  {
   "cell_type": "markdown",
   "metadata": {},
   "source": [
    "In code, we usually start counting from 0, hence why this is the third entry. As you can see, we have saved the contents from each csv file row as a dictionary. Each dictionary has 8 entries. We can easily discover the contents of the dictionaries by declaring the data that we want to observe. For example:"
   ]
  },
  {
   "cell_type": "code",
   "execution_count": null,
   "metadata": {},
   "outputs": [],
   "source": [
    "print(ec[2]['Quantity']) #prints the Quantity item in the third dictionary on the list "
   ]
  },
  {
   "cell_type": "markdown",
   "metadata": {},
   "source": [
    "Dictionaries are super handy! Let's try something more complex. Instead of iterating through the whole list, let's start by asking a query question. Say we wanted to discover <b>how many orders from Spain had more than 10 orders</b>. We can answer these questions using a loop, like before. In our case, <i>for</i> loops will iterate through each of the items of the dataset. We can also use an <i>if</i> statement to set conditions for our search.\n",
    "\n",
    "So, if we wanted to answer this question, we would have a for loop, with two <i>if</i> conditions. The first one would restrict our search to only orders from Spain. The second would restrict our list to only orders with a quantity greater than 10. The following code achieves this, and prints the customer ID and descriptions of each item."
   ]
  },
  {
   "cell_type": "code",
   "execution_count": null,
   "metadata": {
    "scrolled": true
   },
   "outputs": [],
   "source": [
    "for item in ec: #for loop\n",
    "    if item['Country'] == 'Spain': #we only want countries that are Spain\n",
    "        if int(item['Quantity']) > 10: #we only want items that are greater than 10 in number; note that we have to convert to int\n",
    "            print(\"Customer ID: \" + item['CustomerID'] + \" Description: \" + item['Description']) #print the relevant info"
   ]
  },
  {
   "cell_type": "markdown",
   "metadata": {},
   "source": [
    "This is progress. However, so far we have only used features that are common to programming languages generally. One of the powerful features of Python is that it treats every string as an object. Basically, this means that you can use fewer lines of code to do complex things in Python. For programmers, this probably scares you--this feature makes it really easy to make bugs. However, for a data scientist, this is super-handy! \n",
    "\n",
    "Let's demonstrate this power. This time, let's only retrieve the items that have the substring \"CHILDREN\" in their description. The following code achieves this, and prints the results."
   ]
  },
  {
   "cell_type": "code",
   "execution_count": null,
   "metadata": {},
   "outputs": [],
   "source": [
    "for item in ec:\n",
    "    if item['Country'] == 'Spain':\n",
    "        if int(item['Quantity']) > 10:\n",
    "            if \"CHILDREN\" in item['Description']: #retrieve only those with the substring \"CHILDREN\" in the description\n",
    "                print(item[\"CustomerID\"] + \" \" + item[\"Description\"]) #print, as before"
   ]
  },
  {
   "cell_type": "markdown",
   "metadata": {},
   "source": [
    "This is powerful! One last thing that you may notice from this task is that the items we have retrieved are often from the same customers. If we wanted to further subset this data to retrieve only the unique customer IDs, we could do that easily by using the <i>not</i> operator. If we wanted to save the unique customer IDs in a list, we could use the following code. "
   ]
  },
  {
   "cell_type": "code",
   "execution_count": null,
   "metadata": {},
   "outputs": [],
   "source": [
    "kidsCustomersSpain = [] # a new list type\n",
    "\n",
    "for item in ec:\n",
    "    if item['Country'] == 'Spain':\n",
    "        if int(item['Quantity']) > 10:\n",
    "            if \"CHILDREN\" in item['Description']:\n",
    "                if item[\"CustomerID\"] not in kidsCustomersSpain: #using the not operator to restrict by CustomerID\n",
    "                    kidsCustomersSpain.append(item[\"CustomerID\"]) #like before, we will append to the kidsCustomers"
   ]
  },
  {
   "cell_type": "markdown",
   "metadata": {},
   "source": [
    "Let's see the list that we made. We so this by calling the variable."
   ]
  },
  {
   "cell_type": "code",
   "execution_count": null,
   "metadata": {},
   "outputs": [],
   "source": [
    "kidsCustomersSpain"
   ]
  },
  {
   "cell_type": "markdown",
   "metadata": {},
   "source": [
    "We can also get the number of customers by using the len() function, a default function in Python. "
   ]
  },
  {
   "cell_type": "code",
   "execution_count": null,
   "metadata": {},
   "outputs": [],
   "source": [
    "len(kidsCustomersSpain)"
   ]
  },
  {
   "cell_type": "markdown",
   "metadata": {},
   "source": [
    "There you have it! We know that there are 4 customers from Spain who ordered at least 10 items that contained the substring \"CHILDREN\". You can use this code to do some basic analysis of your own--something I encourage you to do!"
   ]
  },
  {
   "cell_type": "markdown",
   "metadata": {},
   "source": [
    "## Challenge Question\n",
    "Can you write an expression to retrieve the number of customers from the UK who purchased items with a UnitPrice of 15 or greater? Feel free to re-use the code contained in this tutorial."
   ]
  },
  {
   "cell_type": "code",
   "execution_count": null,
   "metadata": {},
   "outputs": [],
   "source": []
  }
 ],
 "metadata": {
  "kernelspec": {
   "display_name": "Python 3",
   "language": "python",
   "name": "python3"
  },
  "language_info": {
   "codemirror_mode": {
    "name": "ipython",
    "version": 3
   },
   "file_extension": ".py",
   "mimetype": "text/x-python",
   "name": "python",
   "nbconvert_exporter": "python",
   "pygments_lexer": "ipython3",
   "version": "3.7.0"
  }
 },
 "nbformat": 4,
 "nbformat_minor": 2
}
